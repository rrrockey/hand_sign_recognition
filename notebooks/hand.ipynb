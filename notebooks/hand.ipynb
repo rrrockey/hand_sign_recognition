{
 "cells": [
  {
   "cell_type": "code",
   "execution_count": null,
   "id": "6d394557",
   "metadata": {},
   "outputs": [
    {
     "name": "stdout",
     "output_type": "stream",
     "text": [
      "Note: you may need to restart the kernel to use updated packages.\n"
     ]
    }
   ],
   "source": [
    "!wget -q -O image.jpg https://storage.googleapis.com/mediapipe-tasks/hand_landmarker/woman_hands.jpg\n",
    "\n",
    "\n",
    "!wget -q https://storage.googleapis.com/mediapipe-models/hand_landmarker/hand_landmarker/float16/1/hand_landmarker.task\n",
    "\n",
    "%pip install -q opencv-python"
   ]
  },
  {
   "cell_type": "code",
   "execution_count": null,
   "id": "6a5e9e1d",
   "metadata": {},
   "outputs": [
    {
     "name": "stdout",
     "output_type": "stream",
     "text": [
      "Handedness:  [classification {\n",
      "  index: 0\n",
      "  score: 0.86410445\n",
      "  label: \"Left\"\n",
      "}\n",
      "]\n"
     ]
    },
    {
     "name": "stderr",
     "output_type": "stream",
     "text": [
      "I0000 00:00:1756225822.635150 23682571 gl_context.cc:369] GL version: 2.1 (2.1 Metal - 89.4), renderer: Apple M1\n",
      "W0000 00:00:1756225822.686912 23772132 inference_feedback_manager.cc:114] Feedback manager requires a model with a single signature inference. Disabling support for feedback tensors.\n",
      "W0000 00:00:1756225822.705400 23772132 inference_feedback_manager.cc:114] Feedback manager requires a model with a single signature inference. Disabling support for feedback tensors.\n",
      "I0000 00:00:1756225822.803020 23682571 gl_context.cc:369] GL version: 2.1 (2.1 Metal - 89.4), renderer: Apple M1\n",
      "W0000 00:00:1756225822.818161 23772150 inference_feedback_manager.cc:114] Feedback manager requires a model with a single signature inference. Disabling support for feedback tensors.\n",
      "W0000 00:00:1756225822.827017 23772150 inference_feedback_manager.cc:114] Feedback manager requires a model with a single signature inference. Disabling support for feedback tensors.\n"
     ]
    }
   ],
   "source": [
    "import mediapipe as mp\n",
    "from mediapipe.tasks import python\n",
    "from mediapipe.tasks.python import vision\n",
    "import cv2\n",
    "\n",
    "mp_hands = mp.solutions.hands\n",
    "mp_drawing = mp.solutions.drawing_utils\n",
    "mp_drawing_styles = mp.solutions.drawing_styles\n",
    "\n",
    "base_options = python.BaseOptions(model_asset_path = 'hand_landmarker.task')\n",
    "options = vision.HandLandmarkerOptions(base_options=base_options, num_hands=1)\n",
    "\n",
    "detector = vision.HandLandmarker.create_from_options(options)\n",
    "\n",
    "\n",
    "image = mp.Image.create_from_file('image.jpg')\n",
    "\n",
    "\n",
    "detection_result = detector.detect(image)\n",
    "\n",
    "with mp_hands.Hands(static_image_mode=True, max_num_hands=2, min_detection_confidence=0.5) as hands:\n",
    "    image = cv2.imread('image.jpg')\n",
    "\n",
    "    results = hands.process(cv2.cvtColor(image, cv2.COLOR_RGB2BGR))\n",
    "\n",
    "    print('Handedness: ', results.multi_handedness)\n",
    "\n",
    "    annotated_image = image.copy()\n",
    "\n",
    "    for hand_landmarks in results.multi_hand_landmarks:\n",
    "        mp_drawing.draw_landmarks(annotated_image, \n",
    "                                  hand_landmarks, \n",
    "                                  mp_hands.HAND_CONNECTIONS, \n",
    "                                  mp_drawing_styles.get_default_hand_landmarks_style(),\n",
    "                                  mp_drawing_styles.get_default_hand_connections_style())\n",
    "        \n",
    "    image = mp.Image.create_from_file('image.jpg')\n",
    "    \n",
    "    cv2.imwrite('annotated_output.jpg', annotated_image)\n"
   ]
  },
  {
   "cell_type": "code",
   "execution_count": null,
   "id": "6d0930e7",
   "metadata": {},
   "outputs": [],
   "source": []
  }
 ],
 "metadata": {
  "kernelspec": {
   "display_name": "venv",
   "language": "python",
   "name": "python3"
  },
  "language_info": {
   "codemirror_mode": {
    "name": "ipython",
    "version": 3
   },
   "file_extension": ".py",
   "mimetype": "text/x-python",
   "name": "python",
   "nbconvert_exporter": "python",
   "pygments_lexer": "ipython3",
   "version": "3.11.13"
  }
 },
 "nbformat": 4,
 "nbformat_minor": 5
}
