{
 "cells": [
  {
   "cell_type": "code",
   "execution_count": 1,
   "id": "36ae1b0a",
   "metadata": {},
   "outputs": [],
   "source": [
    "from ultralytics import YOLO\n",
    "import torch"
   ]
  },
  {
   "cell_type": "code",
   "execution_count": null,
   "id": "f3251afd",
   "metadata": {},
   "outputs": [
    {
     "name": "stdout",
     "output_type": "stream",
     "text": [
      "\n",
      "image 1/1 /Users/ryanrockey/DS301/hand_sign_recognition/notebooks/../data/images/test/call/0ed8f8f3-52a8-492e-9425-167b28d94267.jpg: 640x480 1 call, 60.5ms\n",
      "Speed: 2.4ms preprocess, 60.5ms inference, 0.6ms postprocess per image at shape (1, 3, 640, 480)\n"
     ]
    },
    {
     "data": {
      "text/plain": [
       "ultralytics.engine.results.Results object with attributes:\n",
       "\n",
       "boxes: ultralytics.engine.results.Boxes object\n",
       "keypoints: None\n",
       "masks: None\n",
       "names: {0: 'call', 1: 'dislike', 2: 'fist', 3: 'four', 4: 'like', 5: 'mute', 6: 'ok', 7: 'one', 8: 'palm', 9: 'peace', 10: 'peace_inverted', 11: 'rock', 12: 'stop', 13: 'stop_inverted', 14: 'three', 15: 'three2', 16: 'two_up', 17: 'two_up_inverted'}\n",
       "obb: None\n",
       "orig_img: array([[[103, 109, 116],\n",
       "        [103, 109, 116],\n",
       "        [103, 109, 116],\n",
       "        ...,\n",
       "        [124, 136, 142],\n",
       "        [124, 136, 142],\n",
       "        [124, 136, 142]],\n",
       "\n",
       "       [[103, 109, 116],\n",
       "        [103, 109, 116],\n",
       "        [103, 109, 116],\n",
       "        ...,\n",
       "        [124, 136, 142],\n",
       "        [124, 136, 142],\n",
       "        [124, 136, 142]],\n",
       "\n",
       "       [[103, 109, 116],\n",
       "        [103, 109, 116],\n",
       "        [103, 109, 116],\n",
       "        ...,\n",
       "        [124, 136, 142],\n",
       "        [124, 136, 142],\n",
       "        [124, 136, 142]],\n",
       "\n",
       "       ...,\n",
       "\n",
       "       [[190, 191, 195],\n",
       "        [190, 191, 195],\n",
       "        [190, 191, 195],\n",
       "        ...,\n",
       "        [255, 255, 255],\n",
       "        [255, 255, 255],\n",
       "        [255, 255, 255]],\n",
       "\n",
       "       [[192, 193, 197],\n",
       "        [192, 193, 197],\n",
       "        [192, 193, 197],\n",
       "        ...,\n",
       "        [255, 255, 255],\n",
       "        [255, 255, 255],\n",
       "        [255, 255, 255]],\n",
       "\n",
       "       [[193, 194, 198],\n",
       "        [193, 194, 198],\n",
       "        [191, 192, 196],\n",
       "        ...,\n",
       "        [255, 255, 255],\n",
       "        [255, 255, 255],\n",
       "        [255, 255, 255]]], shape=(512, 384, 3), dtype=uint8)\n",
       "orig_shape: (512, 384)\n",
       "path: '/Users/ryanrockey/DS301/hand_sign_recognition/notebooks/../data/images/test/call/0ed8f8f3-52a8-492e-9425-167b28d94267.jpg'\n",
       "probs: None\n",
       "save_dir: '/Users/ryanrockey/DS301/hand_sign_recognition/runs/detect/predict'\n",
       "speed: {'preprocess': 2.360541999223642, 'inference': 60.50254200818017, 'postprocess': 0.610999995842576}"
      ]
     },
     "execution_count": 3,
     "metadata": {},
     "output_type": "execute_result"
    }
   ],
   "source": [
    "# Load trained weights\n",
    "trained_model = YOLO(\"../detect/train4/weights/best.pt\")\n",
    "\n",
    "# Run inference on one image\n",
    "results = trained_model(\"../data/images/test/call/0ed8f8f3-52a8-492e-9425-167b28d94267.jpg\")\n",
    "\n",
    "\n",
    "# results = trained_model(\"/content/drive/MyDrive/test_photo_three_2.jpg\")\n",
    "\n",
    "# results is a list, so take the first item\n",
    "result = results[0]\n",
    "\n",
    "# Show inline\n",
    "result.show()"
   ]
  },
  {
   "cell_type": "code",
   "execution_count": null,
   "id": "fc4f97eb",
   "metadata": {},
   "outputs": [],
   "source": []
  }
 ],
 "metadata": {
  "kernelspec": {
   "display_name": "venv",
   "language": "python",
   "name": "python3"
  },
  "language_info": {
   "codemirror_mode": {
    "name": "ipython",
    "version": 3
   },
   "file_extension": ".py",
   "mimetype": "text/x-python",
   "name": "python",
   "nbconvert_exporter": "python",
   "pygments_lexer": "ipython3",
   "version": "3.11.13"
  }
 },
 "nbformat": 4,
 "nbformat_minor": 5
}
